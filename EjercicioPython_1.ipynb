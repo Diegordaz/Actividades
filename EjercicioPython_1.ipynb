{
  "nbformat": 4,
  "nbformat_minor": 0,
  "metadata": {
    "colab": {
      "provenance": [],
      "toc_visible": true,
      "authorship_tag": "ABX9TyOKQGv9Rfn46YHgJGkDwBGA",
      "include_colab_link": true
    },
    "kernelspec": {
      "name": "python3",
      "display_name": "Python 3"
    },
    "language_info": {
      "name": "python"
    }
  },
  "cells": [
    {
      "cell_type": "markdown",
      "metadata": {
        "id": "view-in-github",
        "colab_type": "text"
      },
      "source": [
        "<a href=\"https://colab.research.google.com/github/Diegordaz/Actividades/blob/main/EjercicioPython_1.ipynb\" target=\"_parent\"><img src=\"https://colab.research.google.com/assets/colab-badge.svg\" alt=\"Open In Colab\"/></a>"
      ]
    },
    {
      "cell_type": "code",
      "execution_count": null,
      "metadata": {
        "id": "wKCTR1R6c83p",
        "colab": {
          "base_uri": "https://localhost:8080/"
        },
        "outputId": "ec8a2f85-a605-4278-b72a-f47297de6c76"
      },
      "outputs": [
        {
          "output_type": "stream",
          "name": "stdout",
          "text": [
            "Hola,¿Cual es tu nombre? Ana\n",
            "Lo siento,no te puedo saludar\n"
          ]
        }
      ],
      "source": [
        "\"Diego Adrian Rodriguez Ordaz 2032270\"\n",
        "\"Ejercicio1 Desarrolla un algoritmo que le pida al usuario por su nombre y que lo salude con su nombre, excepto si se llama “Ana”, “Juan”, y “Pedro”.\"\n",
        "Nombre = input(\"Hola,¿Cual es tu nombre? \") \n",
        "if Nombre == \"Ana\" or Nombre==\"Juan\" or Nombre==\"Pedro\": \n",
        "  print(\"Lo siento,no te puedo saludar\")\n",
        "else:\n",
        "  print(\"Hola\" + Nombre) "
      ]
    },
    {
      "cell_type": "code",
      "source": [
        "\"\"\"Ejercicio2 Desarrolla un algoritmo que por medio de una función, le pida al usuario una lista de N elementos y como resultado invierta el sentido de la lista. .\"\"\" \n",
        "\"\"\"Lista de utiles escolares\"\"\" \n",
        "Lista= input(\"Escribe una lista separada por un espacio: \")\n",
        "print(Lista) \n",
        "lista_invertida = Lista[::-1]\n",
        "print(lista_invertida) "
      ],
      "metadata": {
        "colab": {
          "base_uri": "https://localhost:8080/"
        },
        "id": "mtHTnHp21HOR",
        "outputId": "0721980d-6eb1-4582-a5a3-9529ba6e2b8e"
      },
      "execution_count": null,
      "outputs": [
        {
          "output_type": "stream",
          "name": "stdout",
          "text": [
            "Escribe una lista separada por un espacio: 1 2 3 4 5\n",
            "1 2 3 4 5\n",
            "5 4 3 2 1\n"
          ]
        }
      ]
    },
    {
      "cell_type": "code",
      "source": [
        "\" Ejercicio3 Desarrolla un algoritmo que le pregunte al usuario cuántos números de la serie de Fibonnaci quiere generar y que al final los imprima. \"\n",
        "\"Serie fibonacci\"\n",
        "serie = input(\"¿Cuantos números desea generar?\")\n",
        "def fibonacci_iter(n):\n",
        "    a=1\n",
        "    b=1\n",
        "    if n==1:\n",
        "        print('0')\n",
        "    elif n==2:\n",
        "        print('0','1')\n",
        "    else:\n",
        "        print('0')\n",
        "        print(a)\n",
        "        print(b)\n",
        "        for i in range(n-3):\n",
        "            total = a + b\n",
        "            b=a\n",
        "            a= total\n",
        "            print(total)    \n",
        "fibonacci_iter (20)"
      ],
      "metadata": {
        "colab": {
          "base_uri": "https://localhost:8080/"
        },
        "id": "-iCvPsaC1KbU",
        "outputId": "adcd966f-a705-4e85-9db8-95ec446d6440"
      },
      "execution_count": null,
      "outputs": [
        {
          "output_type": "stream",
          "name": "stdout",
          "text": [
            "¿Cuantos números desea generar?20\n",
            "0\n",
            "1\n",
            "1\n",
            "2\n",
            "3\n",
            "5\n",
            "8\n",
            "13\n",
            "21\n",
            "34\n",
            "55\n",
            "89\n",
            "144\n",
            "233\n",
            "377\n",
            "610\n",
            "987\n",
            "1597\n",
            "2584\n",
            "4181\n"
          ]
        }
      ]
    }
  ]
}